{
 "cells": [
  {
   "cell_type": "code",
   "execution_count": 1,
   "id": "280413fe",
   "metadata": {},
   "outputs": [],
   "source": [
    "import pandas as pd\n",
    "import numpy as np"
   ]
  },
  {
   "cell_type": "code",
   "execution_count": 2,
   "id": "c120ed38",
   "metadata": {},
   "outputs": [],
   "source": [
    "data = pd.read_csv('merge_df.csv')"
   ]
  },
  {
   "cell_type": "markdown",
   "id": "3d3e2348",
   "metadata": {},
   "source": [
    "# Select one country from each continent and drop others "
   ]
  },
  {
   "cell_type": "code",
   "execution_count": 3,
   "id": "c3a43284",
   "metadata": {},
   "outputs": [],
   "source": [
    "data = data[data['country'] != 'Canada']\n",
    "data = data[data['country'] != 'Germany']\n",
    "data = data[data['country'] != 'France']\n",
    "data = data[data['country'] != 'India']\n",
    "data = data[data['country'] != 'Korea']\n",
    "data = data[data['country'] != 'Mexico']\n",
    "data = data[data['country'] != 'Russia']"
   ]
  },
  {
   "cell_type": "code",
   "execution_count": 4,
   "id": "fa76e987",
   "metadata": {},
   "outputs": [
    {
     "name": "stdout",
     "output_type": "stream",
     "text": [
      "<class 'pandas.core.frame.DataFrame'>\n",
      "Index: 1071601 entries, 0 to 2892151\n",
      "Data columns (total 20 columns):\n",
      " #   Column             Non-Null Count    Dtype \n",
      "---  ------             --------------    ----- \n",
      " 0   video_id           1071601 non-null  object\n",
      " 1   title              1071601 non-null  object\n",
      " 2   publishedAt        1071601 non-null  object\n",
      " 3   channelId          1071601 non-null  object\n",
      " 4   channelTitle       1071601 non-null  object\n",
      " 5   categoryId         1071601 non-null  int64 \n",
      " 6   trending_date      1071601 non-null  object\n",
      " 7   tags               1071601 non-null  object\n",
      " 8   view_count         1071601 non-null  int64 \n",
      " 9   likes              1071601 non-null  int64 \n",
      " 10  dislikes           1071601 non-null  int64 \n",
      " 11  commentcount       1071601 non-null  int64 \n",
      " 12  thumbnaillink      1071601 non-null  object\n",
      " 13  comments_disabled  1071601 non-null  bool  \n",
      " 14  description        1071601 non-null  object\n",
      " 15  country            1071601 non-null  object\n",
      " 16  count_max_view     1071601 non-null  int64 \n",
      " 17  Year               1071601 non-null  int64 \n",
      " 18  Month              1071601 non-null  int64 \n",
      " 19  category           1071601 non-null  object\n",
      "dtypes: bool(1), int64(8), object(11)\n",
      "memory usage: 164.5+ MB\n"
     ]
    }
   ],
   "source": [
    "data.info()"
   ]
  },
  {
   "cell_type": "markdown",
   "id": "168b8c52",
   "metadata": {},
   "source": [
    "# Check duplicate rows"
   ]
  },
  {
   "cell_type": "code",
   "execution_count": 5,
   "id": "4336b48c",
   "metadata": {},
   "outputs": [
    {
     "name": "stdout",
     "output_type": "stream",
     "text": [
      "            video_id                                              title  \\\n",
      "4267     8HCBVVL9ZlA                COMPREI UM PLAYSTATION 5 ‹ EduKof ›   \n",
      "4268     L1H-Qchm1Rk  MONTEI UMA MANSÃO PARA O MEU CACHORRO | O MUND...   \n",
      "4270     y3gW5zXTBUs  LIVE DICAS RODADA 37 | CARTOLA FC 2020: VALE E...   \n",
      "4271     boClaxBox_A                DECIDIMOS O QUARTO DA MARIA ALICE!!   \n",
      "4274     9NLLi-jbpaQ  TEMOS UMA NOVIDADE MUITO IMPORTANTE | ANA HICK...   \n",
      "...              ...                                                ...   \n",
      "2883811  G7-zh7Sebr8  United B777 has ENGINE FAILURE+FIRE on departu...   \n",
      "2887335  oj9y7Okr4Fk       10 Winter Car TIPS & TRICKS you NEED to Know   \n",
      "2887336  jpur5LACSbA  Mclaren Said My 675LT Would NEVER Drive Again....   \n",
      "2887337  9b_Vt5lja00                            Why NOBODY Bought These   \n",
      "2887338  u613yk4RGGw  Driving My Wrecked Mclaren 675LT For The First...   \n",
      "\n",
      "                       publishedAt                 channelId  \\\n",
      "4267     2021-02-20 15:00:02+00:00  UCrGnb5RdHA9M6WGmBGYo4ZQ   \n",
      "4268     2021-02-19 22:30:01+00:00  UCUIXGDcq5BMwTGdavU0V8-g   \n",
      "4270     2021-02-20 15:21:43+00:00  UCJVbvkrBLp7L2pnaqc5CmQQ   \n",
      "4271     2021-02-18 15:00:12+00:00  UCsaB2VrLZrtGbum6Eo0ClbA   \n",
      "4274     2021-02-17 22:53:47+00:00  UCaEDMy0ItPSfPEvJf6wYIxw   \n",
      "...                            ...                       ...   \n",
      "2883811  2021-02-21 00:10:49+00:00  UCuedf_fJVrOppky5gl3U6QQ   \n",
      "2887335  2021-02-20 03:32:29+00:00  UCes1EvRjcKU4sY_UEavndBw   \n",
      "2887336  2021-02-19 17:00:32+00:00  UCvAhDxNNUDhi78tMXVGBUaQ   \n",
      "2887337  2021-02-19 17:00:03+00:00  UCL6JmiMXKoXS6bpP1D3bk8g   \n",
      "2887338  2021-02-17 18:15:02+00:00  UCvAhDxNNUDhi78tMXVGBUaQ   \n",
      "\n",
      "                       channelTitle  categoryId              trending_date  \\\n",
      "4267                         AM3NlC          22  2021-02-24 00:00:00+00:00   \n",
      "4268                  Gui Cavalieri          22  2021-02-24 00:00:00+00:00   \n",
      "4270     Cartoleiros Gazeta do Povo          22  2021-02-24 00:00:00+00:00   \n",
      "4271               Virgínia Fonseca          22  2021-02-24 00:00:00+00:00   \n",
      "4274             Canal Ana Hickmann          22  2021-02-24 00:00:00+00:00   \n",
      "...                             ...         ...                        ...   \n",
      "2883811               VASAviation -          19  2021-02-24 00:00:00+00:00   \n",
      "2887335                    ChrisFix           2  2021-02-24 00:00:00+00:00   \n",
      "2887336                    Tavarish           2  2021-02-24 00:00:00+00:00   \n",
      "2887337                 Donut Media           2  2021-02-24 00:00:00+00:00   \n",
      "2887338                    Tavarish           2  2021-02-24 00:00:00+00:00   \n",
      "\n",
      "                                                      tags  view_count  \\\n",
      "4267     VLOG|Estados|Unidos|EUA|Brasil|Brazil|Breakmen...      490752   \n",
      "4268     #enaldinho|#gui cavalieri|#guilherme|#gui|#irm...      293466   \n",
      "4270     cartola|cartola fc|cartola 2020|dicas cartola ...       58813   \n",
      "4271     vih|virginia|fonseca|virginia fonseca|rezende|...     1157850   \n",
      "4274     ana hickmann|canal ana hickmann|hoje em dia|mo...      494347   \n",
      "...                                                    ...         ...   \n",
      "2883811  REAL|ATC|FUNNY|AIR|TRAFFIC|CONTROL|CONTROLLER|...      725555   \n",
      "2887335  ChrisFix|car hacks|snow car hacks|blizzard car...     1127094   \n",
      "2887336  aston martin|mercedes|amg|hyundai|bmw|lamborgh...      850050   \n",
      "2887337  best cars 2021|car fails|cars that didn't sell...     1427535   \n",
      "2887338  aston martin|mercedes|amg|hyundai|bmw|lamborgh...     1061571   \n",
      "\n",
      "          likes  dislikes  commentcount  \\\n",
      "4267      58542       438           944   \n",
      "4268      31353       336          1610   \n",
      "4270       5562        54            52   \n",
      "4271     142595      1425          2994   \n",
      "4274      47315       304         10212   \n",
      "...         ...       ...           ...   \n",
      "2883811   12175       240          1684   \n",
      "2887335   59204      1346          7136   \n",
      "2887336   45409       370          3265   \n",
      "2887337   52695       942          5150   \n",
      "2887338   41331       817          2337   \n",
      "\n",
      "                                          thumbnaillink  comments_disabled  \\\n",
      "4267     https://i.ytimg.com/vi/8HCBVVL9ZlA/default.jpg              False   \n",
      "4268     https://i.ytimg.com/vi/L1H-Qchm1Rk/default.jpg              False   \n",
      "4270     https://i.ytimg.com/vi/y3gW5zXTBUs/default.jpg              False   \n",
      "4271     https://i.ytimg.com/vi/boClaxBox_A/default.jpg              False   \n",
      "4274     https://i.ytimg.com/vi/9NLLi-jbpaQ/default.jpg              False   \n",
      "...                                                 ...                ...   \n",
      "2883811  https://i.ytimg.com/vi/G7-zh7Sebr8/default.jpg              False   \n",
      "2887335  https://i.ytimg.com/vi/oj9y7Okr4Fk/default.jpg              False   \n",
      "2887336  https://i.ytimg.com/vi/jpur5LACSbA/default.jpg              False   \n",
      "2887337  https://i.ytimg.com/vi/9b_Vt5lja00/default.jpg              False   \n",
      "2887338  https://i.ytimg.com/vi/u613yk4RGGw/default.jpg              False   \n",
      "\n",
      "                                               description country  \\\n",
      "4267     Canal de Games: https://goo.gl/BHD7sB♦ Redes S...  Brazil   \n",
      "4268     E ai meu povo, como é que cês tâo? Vamos para ...  Brazil   \n",
      "4270     FAÇA PARTE DO TIME DE ASSINANTES DO PROFESSOR ...  Brazil   \n",
      "4271     Oiii amigos, agora os videos serão postados TO...  Brazil   \n",
      "4274     Oi, pessoal! Finalmente nós viemos aqui no can...  Brazil   \n",
      "...                                                    ...     ...   \n",
      "2883811  20FEB2021United B772 performing flight UAL328 ...      US   \n",
      "2887335  If you live somewhere that gets snow, this vid...      US   \n",
      "2887336  Find the world's BEST DEALS on cars with AutoT...      US   \n",
      "2887337  Thanks to Dr Squatch for sponsoring today’s ep...      US   \n",
      "2887338  Find the world's BEST DEALS on cars with AutoT...      US   \n",
      "\n",
      "         count_max_view  Year  Month          category  \n",
      "4267             522811  2021      2    People & Blogs  \n",
      "4268             316468  2021      2    People & Blogs  \n",
      "4270              59511  2021      2    People & Blogs  \n",
      "4271            1232336  2021      2    People & Blogs  \n",
      "4274             508900  2021      2    People & Blogs  \n",
      "...                 ...   ...    ...               ...  \n",
      "2883811          815727  2021      2   Travel & Events  \n",
      "2887335         1290917  2021      2  Autos & Vehicles  \n",
      "2887336          917647  2021      2  Autos & Vehicles  \n",
      "2887337         1628421  2021      2  Autos & Vehicles  \n",
      "2887338         1061571  2021      2  Autos & Vehicles  \n",
      "\n",
      "[444 rows x 20 columns]\n"
     ]
    }
   ],
   "source": [
    "duplicate_rows = data.duplicated()\n",
    "print(data[duplicate_rows])"
   ]
  },
  {
   "cell_type": "code",
   "execution_count": 6,
   "id": "8646e53d",
   "metadata": {},
   "outputs": [],
   "source": [
    "data = data.drop_duplicates()"
   ]
  },
  {
   "cell_type": "code",
   "execution_count": 7,
   "id": "0d2f6313",
   "metadata": {},
   "outputs": [
    {
     "name": "stdout",
     "output_type": "stream",
     "text": [
      "<class 'pandas.core.frame.DataFrame'>\n",
      "Index: 1071157 entries, 0 to 2892151\n",
      "Data columns (total 20 columns):\n",
      " #   Column             Non-Null Count    Dtype \n",
      "---  ------             --------------    ----- \n",
      " 0   video_id           1071157 non-null  object\n",
      " 1   title              1071157 non-null  object\n",
      " 2   publishedAt        1071157 non-null  object\n",
      " 3   channelId          1071157 non-null  object\n",
      " 4   channelTitle       1071157 non-null  object\n",
      " 5   categoryId         1071157 non-null  int64 \n",
      " 6   trending_date      1071157 non-null  object\n",
      " 7   tags               1071157 non-null  object\n",
      " 8   view_count         1071157 non-null  int64 \n",
      " 9   likes              1071157 non-null  int64 \n",
      " 10  dislikes           1071157 non-null  int64 \n",
      " 11  commentcount       1071157 non-null  int64 \n",
      " 12  thumbnaillink      1071157 non-null  object\n",
      " 13  comments_disabled  1071157 non-null  bool  \n",
      " 14  description        1071157 non-null  object\n",
      " 15  country            1071157 non-null  object\n",
      " 16  count_max_view     1071157 non-null  int64 \n",
      " 17  Year               1071157 non-null  int64 \n",
      " 18  Month              1071157 non-null  int64 \n",
      " 19  category           1071157 non-null  object\n",
      "dtypes: bool(1), int64(8), object(11)\n",
      "memory usage: 164.5+ MB\n"
     ]
    }
   ],
   "source": [
    "data.info()"
   ]
  },
  {
   "cell_type": "markdown",
   "id": "53c1b192",
   "metadata": {},
   "source": [
    "# Flask"
   ]
  },
  {
   "cell_type": "code",
   "execution_count": 19,
   "id": "805ccced",
   "metadata": {},
   "outputs": [],
   "source": [
    "import json\n",
    "#Dataframe to json\n",
    "json_objects = data.to_json(orient='records')"
   ]
  },
  {
   "cell_type": "code",
   "execution_count": 20,
   "id": "e9b29d0d",
   "metadata": {},
   "outputs": [],
   "source": [
    "json_list = json.loads(json_objects)"
   ]
  },
  {
   "cell_type": "code",
   "execution_count": 23,
   "id": "80afe752",
   "metadata": {},
   "outputs": [],
   "source": [
    "#Write all json objects into a text file\n",
    "output_file_path = 'data.json'\n",
    "with open(output_file_path, 'w') as json_file:\n",
    "    json.dump(json_list, json_file, indent=2)"
   ]
  },
  {
   "cell_type": "code",
   "execution_count": 24,
   "id": "1c0eeb76",
   "metadata": {},
   "outputs": [],
   "source": [
    "# Read JSON objects from the created file back into a DataFrame\n",
    "input_file_path = 'data.json'\n",
    "with open(input_file_path, 'r') as json_file:\n",
    "    json_data = json.load(json_file)"
   ]
  },
  {
   "cell_type": "code",
   "execution_count": 25,
   "id": "873dcf22",
   "metadata": {},
   "outputs": [],
   "source": [
    "# Convert the JSON objects to a DataFrame\n",
    "df = pd.DataFrame(json_data)"
   ]
  },
  {
   "cell_type": "code",
   "execution_count": 26,
   "id": "1c735488",
   "metadata": {},
   "outputs": [
    {
     "data": {
      "text/plain": [
       "1071157"
      ]
     },
     "execution_count": 26,
     "metadata": {},
     "output_type": "execute_result"
    }
   ],
   "source": [
    "len(df)"
   ]
  },
  {
   "cell_type": "code",
   "execution_count": 27,
   "id": "253af03d",
   "metadata": {},
   "outputs": [],
   "source": [
    "from flask import Flask, render_template\n",
    "app = Flask(\"Youtube Video in Brazil,Great Britain,Japan,US\")"
   ]
  },
  {
   "cell_type": "code",
   "execution_count": 28,
   "id": "911b639a",
   "metadata": {},
   "outputs": [],
   "source": [
    "@app.route('/')\n",
    "def hello_world():\n",
    "    output = len(df)\n",
    "    return render_template('index.html', result=output)\n",
    "    #return output"
   ]
  },
  {
   "cell_type": "code",
   "execution_count": 29,
   "id": "5cfc56ac",
   "metadata": {},
   "outputs": [
    {
     "name": "stdout",
     "output_type": "stream",
     "text": [
      " * Serving Flask app 'Youtube Video in Brazil,Great Britain,Japan,US'\n",
      " * Debug mode: off\n"
     ]
    },
    {
     "name": "stderr",
     "output_type": "stream",
     "text": [
      "WARNING: This is a development server. Do not use it in a production deployment. Use a production WSGI server instead.\n",
      " * Running on http://localhost:5001\n",
      "Press CTRL+C to quit\n"
     ]
    }
   ],
   "source": [
    "app.run(host='localhost', port=5001)"
   ]
  }
 ],
 "metadata": {
  "kernelspec": {
   "display_name": "Python 3 (ipykernel)",
   "language": "python",
   "name": "python3"
  },
  "language_info": {
   "codemirror_mode": {
    "name": "ipython",
    "version": 3
   },
   "file_extension": ".py",
   "mimetype": "text/x-python",
   "name": "python",
   "nbconvert_exporter": "python",
   "pygments_lexer": "ipython3",
   "version": "3.11.5"
  }
 },
 "nbformat": 4,
 "nbformat_minor": 5
}
